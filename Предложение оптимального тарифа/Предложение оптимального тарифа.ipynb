{
 "cells": [
  {
   "cell_type": "markdown",
   "metadata": {
    "toc": true
   },
   "source": [
    "<h1>Содержание<span class=\"tocSkip\"></span></h1>\n",
    "<div class=\"toc\"><ul class=\"toc-item\"><li><span><a href=\"#Открытие-файла-и-изучение-данных\" data-toc-modified-id=\"Открытие-файла-и-изучение-данных-1\"><span class=\"toc-item-num\">1&nbsp;&nbsp;</span>Открытие файла и изучение данных</a></span><ul class=\"toc-item\"><li><span><a href=\"#Открытие-файла-и-изучение-его-структуры\" data-toc-modified-id=\"Открытие-файла-и-изучение-его-структуры-1.1\"><span class=\"toc-item-num\">1.1&nbsp;&nbsp;</span>Открытие файла и изучение его структуры</a></span></li><li><span><a href=\"#Изменение-типов-данных-и-проверка-на-наличие-дубликатов\" data-toc-modified-id=\"Изменение-типов-данных-и-проверка-на-наличие-дубликатов-1.2\"><span class=\"toc-item-num\">1.2&nbsp;&nbsp;</span>Изменение типов данных и проверка на наличие дубликатов</a></span></li><li><span><a href=\"#Изучение-выборки\" data-toc-modified-id=\"Изучение-выборки-1.3\"><span class=\"toc-item-num\">1.3&nbsp;&nbsp;</span>Изучение выборки</a></span></li></ul></li><li><span><a href=\"#Подготовка-данных-к-построению-моделей\" data-toc-modified-id=\"Подготовка-данных-к-построению-моделей-2\"><span class=\"toc-item-num\">2&nbsp;&nbsp;</span>Подготовка данных к построению моделей</a></span></li><li><span><a href=\"#Построение-моделей\" data-toc-modified-id=\"Построение-моделей-3\"><span class=\"toc-item-num\">3&nbsp;&nbsp;</span>Построение моделей</a></span><ul class=\"toc-item\"><li><span><a href=\"#Decision-Tree-Classifier\" data-toc-modified-id=\"Decision-Tree-Classifier-3.1\"><span class=\"toc-item-num\">3.1&nbsp;&nbsp;</span>Decision Tree Classifier</a></span></li><li><span><a href=\"#Random-Forest-Classifier\" data-toc-modified-id=\"Random-Forest-Classifier-3.2\"><span class=\"toc-item-num\">3.2&nbsp;&nbsp;</span>Random Forest Classifier</a></span></li><li><span><a href=\"#Logistic-Regression\" data-toc-modified-id=\"Logistic-Regression-3.3\"><span class=\"toc-item-num\">3.3&nbsp;&nbsp;</span>Logistic Regression</a></span></li></ul></li><li><span><a href=\"#Проверка-модели-на-тестовой-выборке\" data-toc-modified-id=\"Проверка-модели-на-тестовой-выборке-4\"><span class=\"toc-item-num\">4&nbsp;&nbsp;</span>Проверка модели на тестовой выборке</a></span><ul class=\"toc-item\"><li><span><a href=\"#Random-Forest-Classifier\" data-toc-modified-id=\"Random-Forest-Classifier-4.1\"><span class=\"toc-item-num\">4.1&nbsp;&nbsp;</span>Random Forest Classifier</a></span></li></ul></li><li><span><a href=\"#Проверка-модели-на-адекватность\" data-toc-modified-id=\"Проверка-модели-на-адекватность-5\"><span class=\"toc-item-num\">5&nbsp;&nbsp;</span>Проверка модели на адекватность</a></span></li><li><span><a href=\"#Вывод\" data-toc-modified-id=\"Вывод-6\"><span class=\"toc-item-num\">6&nbsp;&nbsp;</span>Вывод</a></span></li></ul></div>"
   ]
  },
  {
   "cell_type": "markdown",
   "metadata": {},
   "source": [
    "# Рекомендация тарифов"
   ]
  },
  {
   "cell_type": "markdown",
   "metadata": {},
   "source": [
    "В нашем распоряжении данные о поведении клиентов, которые уже перешли на тарифы \"Смарт\" или \"Ультра\". Нужно построить модель для задачи классификации, которая выберет подходящий тариф для каждого пользователя.\n",
    "\n",
    "Необходимо построить модель с максимально большим значением *accuracy*. Чтобы сдать проект успешно, нужно довести долю правильных ответов по крайней мере до 0.75. "
   ]
  },
  {
   "cell_type": "markdown",
   "metadata": {},
   "source": [
    "Каждая строчка в датасете является информацией о поведении одного пользователя за месяц. В базе данных присутствуют следующие столбцы:  \n",
    "  \n",
    "`сalls` — количество звонков,  \n",
    "`minutes` — суммарная длительность звонков в минутах,  \n",
    "`messages` — количество sms-сообщений,  \n",
    "`mb_used` — израсходованный интернет-трафик в Мб,  \n",
    "`is_ultra` — каким тарифом пользовался в течение месяца («Ультра» — 1, «Смарт» — 0)."
   ]
  },
  {
   "cell_type": "markdown",
   "metadata": {},
   "source": [
    "## Открытие файла и изучение данных"
   ]
  },
  {
   "cell_type": "markdown",
   "metadata": {},
   "source": [
    "### Открытие файла и изучение его структуры"
   ]
  },
  {
   "cell_type": "code",
   "execution_count": 1,
   "metadata": {},
   "outputs": [],
   "source": [
    "# Импорт библиотек\n",
    "\n",
    "import pandas as pd\n",
    "from sklearn.model_selection import train_test_split\n",
    "from sklearn.metrics import accuracy_score\n",
    "from sklearn.tree import DecisionTreeClassifier\n",
    "from sklearn.ensemble import RandomForestClassifier\n",
    "from sklearn.linear_model import LogisticRegression\n",
    "from sklearn.dummy import DummyClassifier\n",
    "import matplotlib.pyplot as plt"
   ]
  },
  {
   "cell_type": "code",
   "execution_count": 2,
   "metadata": {},
   "outputs": [],
   "source": [
    "try:\n",
    "    data = pd.read_csv('/datasets/users_behavior.csv')\n",
    "except:\n",
    "    data = pd.read_csv('https://code.s3.yandex.net/datasets/users_behavior.csv')"
   ]
  },
  {
   "cell_type": "code",
   "execution_count": 3,
   "metadata": {},
   "outputs": [],
   "source": [
    "# Избавимся от предупреждений\n",
    "\n",
    "import warnings\n",
    "warnings.filterwarnings('ignore')"
   ]
  },
  {
   "cell_type": "code",
   "execution_count": 4,
   "metadata": {},
   "outputs": [
    {
     "name": "stdout",
     "output_type": "stream",
     "text": [
      "<class 'pandas.core.frame.DataFrame'>\n",
      "RangeIndex: 3214 entries, 0 to 3213\n",
      "Data columns (total 5 columns):\n",
      " #   Column    Non-Null Count  Dtype  \n",
      "---  ------    --------------  -----  \n",
      " 0   calls     3214 non-null   float64\n",
      " 1   minutes   3214 non-null   float64\n",
      " 2   messages  3214 non-null   float64\n",
      " 3   mb_used   3214 non-null   float64\n",
      " 4   is_ultra  3214 non-null   int64  \n",
      "dtypes: float64(4), int64(1)\n",
      "memory usage: 125.7 KB\n"
     ]
    }
   ],
   "source": [
    "# Выведем общую информацию о датасете\n",
    "\n",
    "data.info()"
   ]
  },
  {
   "cell_type": "markdown",
   "metadata": {},
   "source": [
    "В датасете 3214 строчек о пользователях и 5 столбцов, по которым записи о клиентах сравниваются. Пропущенных значений нет"
   ]
  },
  {
   "cell_type": "code",
   "execution_count": 5,
   "metadata": {
    "scrolled": true
   },
   "outputs": [
    {
     "data": {
      "text/html": [
       "<div>\n",
       "<style scoped>\n",
       "    .dataframe tbody tr th:only-of-type {\n",
       "        vertical-align: middle;\n",
       "    }\n",
       "\n",
       "    .dataframe tbody tr th {\n",
       "        vertical-align: top;\n",
       "    }\n",
       "\n",
       "    .dataframe thead th {\n",
       "        text-align: right;\n",
       "    }\n",
       "</style>\n",
       "<table border=\"1\" class=\"dataframe\">\n",
       "  <thead>\n",
       "    <tr style=\"text-align: right;\">\n",
       "      <th></th>\n",
       "      <th>calls</th>\n",
       "      <th>minutes</th>\n",
       "      <th>messages</th>\n",
       "      <th>mb_used</th>\n",
       "      <th>is_ultra</th>\n",
       "    </tr>\n",
       "  </thead>\n",
       "  <tbody>\n",
       "    <tr>\n",
       "      <th>0</th>\n",
       "      <td>40.0</td>\n",
       "      <td>311.90</td>\n",
       "      <td>83.0</td>\n",
       "      <td>19915.42</td>\n",
       "      <td>0</td>\n",
       "    </tr>\n",
       "    <tr>\n",
       "      <th>1</th>\n",
       "      <td>85.0</td>\n",
       "      <td>516.75</td>\n",
       "      <td>56.0</td>\n",
       "      <td>22696.96</td>\n",
       "      <td>0</td>\n",
       "    </tr>\n",
       "    <tr>\n",
       "      <th>2</th>\n",
       "      <td>77.0</td>\n",
       "      <td>467.66</td>\n",
       "      <td>86.0</td>\n",
       "      <td>21060.45</td>\n",
       "      <td>0</td>\n",
       "    </tr>\n",
       "    <tr>\n",
       "      <th>3</th>\n",
       "      <td>106.0</td>\n",
       "      <td>745.53</td>\n",
       "      <td>81.0</td>\n",
       "      <td>8437.39</td>\n",
       "      <td>1</td>\n",
       "    </tr>\n",
       "    <tr>\n",
       "      <th>4</th>\n",
       "      <td>66.0</td>\n",
       "      <td>418.74</td>\n",
       "      <td>1.0</td>\n",
       "      <td>14502.75</td>\n",
       "      <td>0</td>\n",
       "    </tr>\n",
       "  </tbody>\n",
       "</table>\n",
       "</div>"
      ],
      "text/plain": [
       "   calls  minutes  messages   mb_used  is_ultra\n",
       "0   40.0   311.90      83.0  19915.42         0\n",
       "1   85.0   516.75      56.0  22696.96         0\n",
       "2   77.0   467.66      86.0  21060.45         0\n",
       "3  106.0   745.53      81.0   8437.39         1\n",
       "4   66.0   418.74       1.0  14502.75         0"
      ]
     },
     "execution_count": 5,
     "metadata": {},
     "output_type": "execute_result"
    }
   ],
   "source": [
    "# Выведем первые 5 строчек датасета, чтобы посмотреть на его структуру\n",
    "\n",
    "data.head()"
   ]
  },
  {
   "cell_type": "markdown",
   "metadata": {},
   "source": [
    "### Изменение типов данных и проверка на наличие дубликатов"
   ]
  },
  {
   "cell_type": "markdown",
   "metadata": {},
   "source": [
    "Нужно изменить тип данных в столбцах `calls` и `messages`, так как в них могут находится только целочисленные значения"
   ]
  },
  {
   "cell_type": "code",
   "execution_count": 6,
   "metadata": {},
   "outputs": [],
   "source": [
    "data['calls'] = data['calls'].astype('int64')\n",
    "data['messages'] = data['messages'].astype('int64')\n",
    "\n",
    "#data.info()"
   ]
  },
  {
   "cell_type": "code",
   "execution_count": 7,
   "metadata": {
    "scrolled": true
   },
   "outputs": [
    {
     "data": {
      "text/plain": [
       "0"
      ]
     },
     "execution_count": 7,
     "metadata": {},
     "output_type": "execute_result"
    }
   ],
   "source": [
    "# Проверим датасет на наличие дубликатов\n",
    "\n",
    "data.duplicated().sum()"
   ]
  },
  {
   "cell_type": "markdown",
   "metadata": {},
   "source": [
    "Дубликатов не обнаружено"
   ]
  },
  {
   "cell_type": "markdown",
   "metadata": {},
   "source": [
    "### Изучение выборки"
   ]
  },
  {
   "cell_type": "code",
   "execution_count": 8,
   "metadata": {
    "scrolled": false
   },
   "outputs": [
    {
     "data": {
      "image/png": "[encoded data removed]",
      "text/plain": [
       "<Figure size 1500x1000 with 4 Axes>"
      ]
     },
     "metadata": {},
     "output_type": "display_data"
    }
   ],
   "source": [
    "data[['calls', 'minutes', 'messages', 'mb_used']].hist(figsize=(15, 10), bins=50);"
   ]
  },
  {
   "cell_type": "code",
   "execution_count": 9,
   "metadata": {
    "scrolled": false
   },
   "outputs": [
    {
     "data": {
      "image/png": "[encoded data removed]",
      "text/plain": [
       "<Figure size 640x480 with 1 Axes>"
      ]
     },
     "metadata": {},
     "output_type": "display_data"
    }
   ],
   "source": [
    "data['is_ultra'].value_counts().plot(kind='pie', labels=['Смарт', 'Ультра'], autopct='%1.1f%%')\n",
    "plt.ylabel('')\n",
    "plt.title('Распределение тарифов в датасете')\n",
    "plt.show()"
   ]
  },
  {
   "cell_type": "markdown",
   "metadata": {},
   "source": [
    "По построенным диаграммам можно заметить, что распределение значений в стобцах `calls`, `minutes` и `mb_used` напоминает пуассоновское. Также, в выборке присутствует больше пользователей тарифа \"Смарт\""
   ]
  },
  {
   "cell_type": "code",
   "execution_count": 10,
   "metadata": {},
   "outputs": [
    {
     "data": {
      "text/html": [
       "<div>\n",
       "<style scoped>\n",
       "    .dataframe tbody tr th:only-of-type {\n",
       "        vertical-align: middle;\n",
       "    }\n",
       "\n",
       "    .dataframe tbody tr th {\n",
       "        vertical-align: top;\n",
       "    }\n",
       "\n",
       "    .dataframe thead th {\n",
       "        text-align: right;\n",
       "    }\n",
       "</style>\n",
       "<table border=\"1\" class=\"dataframe\">\n",
       "  <thead>\n",
       "    <tr style=\"text-align: right;\">\n",
       "      <th></th>\n",
       "      <th>calls</th>\n",
       "      <th>minutes</th>\n",
       "      <th>messages</th>\n",
       "      <th>mb_used</th>\n",
       "      <th>is_ultra</th>\n",
       "    </tr>\n",
       "  </thead>\n",
       "  <tbody>\n",
       "    <tr>\n",
       "      <th>calls</th>\n",
       "      <td>1.000000</td>\n",
       "      <td>0.982083</td>\n",
       "      <td>0.177385</td>\n",
       "      <td>0.286442</td>\n",
       "      <td>0.207122</td>\n",
       "    </tr>\n",
       "    <tr>\n",
       "      <th>minutes</th>\n",
       "      <td>0.982083</td>\n",
       "      <td>1.000000</td>\n",
       "      <td>0.173110</td>\n",
       "      <td>0.280967</td>\n",
       "      <td>0.206955</td>\n",
       "    </tr>\n",
       "    <tr>\n",
       "      <th>messages</th>\n",
       "      <td>0.177385</td>\n",
       "      <td>0.173110</td>\n",
       "      <td>1.000000</td>\n",
       "      <td>0.195721</td>\n",
       "      <td>0.203830</td>\n",
       "    </tr>\n",
       "    <tr>\n",
       "      <th>mb_used</th>\n",
       "      <td>0.286442</td>\n",
       "      <td>0.280967</td>\n",
       "      <td>0.195721</td>\n",
       "      <td>1.000000</td>\n",
       "      <td>0.198568</td>\n",
       "    </tr>\n",
       "    <tr>\n",
       "      <th>is_ultra</th>\n",
       "      <td>0.207122</td>\n",
       "      <td>0.206955</td>\n",
       "      <td>0.203830</td>\n",
       "      <td>0.198568</td>\n",
       "      <td>1.000000</td>\n",
       "    </tr>\n",
       "  </tbody>\n",
       "</table>\n",
       "</div>"
      ],
      "text/plain": [
       "             calls   minutes  messages   mb_used  is_ultra\n",
       "calls     1.000000  0.982083  0.177385  0.286442  0.207122\n",
       "minutes   0.982083  1.000000  0.173110  0.280967  0.206955\n",
       "messages  0.177385  0.173110  1.000000  0.195721  0.203830\n",
       "mb_used   0.286442  0.280967  0.195721  1.000000  0.198568\n",
       "is_ultra  0.207122  0.206955  0.203830  0.198568  1.000000"
      ]
     },
     "execution_count": 10,
     "metadata": {},
     "output_type": "execute_result"
    }
   ],
   "source": [
    "data.corr()"
   ]
  },
  {
   "cell_type": "markdown",
   "metadata": {},
   "source": [
    "Как можно заметить из корреляционной матрицы, присутствует сильная положительная линейная зависимость между `calls` и `minutes`. Чтобы в дальнейшем при построении модели не возникло ошибок из-за данной зависимости, построим новый параметр - `minutes_per_call`, который будет показывать среднее количество минут за один звонок пользователя"
   ]
  },
  {
   "cell_type": "code",
   "execution_count": 11,
   "metadata": {},
   "outputs": [],
   "source": [
    "data['minutes_per_call'] = data['minutes'] / data['calls']\n",
    "\n",
    "# Так как в выборке могли быть нули в столбце 'calls', заполним пропуски в новом столбце нулями\n",
    "data['minutes_per_call'] = data['minutes_per_call'].fillna(value=0)\n",
    "\n",
    "# data.head()"
   ]
  },
  {
   "cell_type": "markdown",
   "metadata": {},
   "source": [
    "## Подготовка данных к построению моделей"
   ]
  },
  {
   "cell_type": "markdown",
   "metadata": {},
   "source": [
    "Для начала необходимо разделить признаки на целевой - **target**, и остальные - **features**. В нашей задаче нам необходимо построить модель для выбора наиболее подходящего тарифа. Значит, столбец `is_ultra` будет являться целевым признаком, а столбцы `calls`, `minutes`, `messages` и `mb_used` - остальными"
   ]
  },
  {
   "cell_type": "code",
   "execution_count": 12,
   "metadata": {},
   "outputs": [],
   "source": [
    "features = data.drop(['is_ultra', 'minutes', 'calls'], axis=1)\n",
    "#features.shape\n",
    "\n",
    "target = data['is_ultra']\n",
    "#target.shape"
   ]
  },
  {
   "cell_type": "markdown",
   "metadata": {},
   "source": [
    "Разобьем данные на **обучающую выборку** в размере 60% от всего датасета, **валидационную выборку** в размере 20% от всех данных и **тестовую выборку**, составляющую 20% от всей доступной базы данных. Так как в датасете присутствует сильное различие между количеством пользователей тарифов, нам нужно сохранить примерно такое же разбиение в обучающей, тестовой и валидационных выборках"
   ]
  },
  {
   "cell_type": "code",
   "execution_count": 13,
   "metadata": {},
   "outputs": [],
   "source": [
    "# Разделим выборку на тренировочную и вылидационную\n",
    "features_train, features_valid, target_train, target_valid = (\n",
    "    train_test_split(features, target, test_size=0.4, random_state=12345, stratify=target)\n",
    ")\n",
    "\n",
    "# Разделим валидационную выборку на валидационную и тестовую\n",
    "features_valid, features_test, target_valid, target_test = (\n",
    "    train_test_split(features_valid, target_valid, test_size=0.5, random_state=12345, \n",
    "                     stratify=target_valid)\n",
    ")\n",
    "\n",
    "#target_train.value_counts() / len(target_train)\n",
    "#target_valid.value_counts() / len(target_valid)\n",
    "#target_test.value_counts() / len(target_test)"
   ]
  },
  {
   "cell_type": "markdown",
   "metadata": {},
   "source": [
    "## Построение моделей"
   ]
  },
  {
   "cell_type": "markdown",
   "metadata": {},
   "source": [
    "Так как нам нужно предсказать, какой тариф больше подойдет пользователю, перед нами стоит задача классификации. Исследуем три модели:  \n",
    "- Дерево решений\n",
    "- Случайный лес\n",
    "- Логистическая регрессия"
   ]
  },
  {
   "cell_type": "markdown",
   "metadata": {},
   "source": [
    "### Decision Tree Classifier"
   ]
  },
  {
   "cell_type": "code",
   "execution_count": 14,
   "metadata": {},
   "outputs": [
    {
     "name": "stdout",
     "output_type": "stream",
     "text": [
      "Лучший результат модели дерева решений:\n",
      "Глубина - 5\n",
      "Точность - 0.7776049766718507\n"
     ]
    }
   ],
   "source": [
    "best_model_tree = None\n",
    "best_depth = 0\n",
    "best_accuracy_tree = 0\n",
    "\n",
    "tree_train_accuracy_list = []\n",
    "tree_valid_accuracy_list = []\n",
    "tree_depth_list = list(range(1, 11))\n",
    "\n",
    "for depth in range(1, 11):\n",
    "    \n",
    "    model = DecisionTreeClassifier(max_depth=depth, random_state=12345)\n",
    "    model.fit(features_train, target_train)\n",
    "    \n",
    "    tree_predictions_valid = model.predict(features_valid)\n",
    "    accuracy = accuracy_score(target_valid, tree_predictions_valid)\n",
    "    tree_valid_accuracy_list.append(accuracy)\n",
    "    \n",
    "    tree_predictions_train = model.predict(features_train)\n",
    "    accuracy_train = accuracy_score(target_train, tree_predictions_train)\n",
    "    tree_train_accuracy_list.append(accuracy_train)\n",
    "    \n",
    "    if accuracy > best_accuracy_tree:\n",
    "        best_model_tree = model\n",
    "        best_depth = depth\n",
    "        best_accuracy_tree = accuracy\n",
    "        \n",
    "print(f'Лучший результат модели дерева решений:\\nГлубина - {best_depth}\\n'\n",
    "      f'Точность - {best_accuracy_tree}')"
   ]
  },
  {
   "cell_type": "code",
   "execution_count": 15,
   "metadata": {},
   "outputs": [
    {
     "data": {
      "image/png": "[encoded data removed]",
      "text/plain": [
       "<Figure size 640x480 with 1 Axes>"
      ]
     },
     "metadata": {},
     "output_type": "display_data"
    }
   ],
   "source": [
    "plt.plot(tree_depth_list, tree_train_accuracy_list, linestyle='-', marker='o')\n",
    "plt.plot(tree_depth_list, tree_valid_accuracy_list, linestyle='-', marker='o')\n",
    "plt.legend(['accuracy_train', 'accuracy_valid'])\n",
    "\n",
    "text = f'depth={best_depth}, value={best_accuracy_tree.round(4)}'\n",
    "box_properties = dict(boxstyle='square,pad=0.3', fc='white')\n",
    "arrow_properties = dict(arrowstyle='->', connectionstyle='angle,angleA=0,angleB=60')\n",
    "\n",
    "plt.ylabel('accuracy')\n",
    "plt.xlabel('Глубина дерева')\n",
    "plt.title('Кривые Accuracy Дерева решений')\n",
    "\n",
    "plt.annotate(text, xy=(best_depth, best_accuracy_tree), xytext=(6, 0.785), bbox=box_properties, \n",
    "            arrowprops=arrow_properties)\n",
    "plt.show()"
   ]
  },
  {
   "cell_type": "markdown",
   "metadata": {},
   "source": [
    "### Random Forest Classifier"
   ]
  },
  {
   "cell_type": "code",
   "execution_count": 16,
   "metadata": {},
   "outputs": [
    {
     "name": "stdout",
     "output_type": "stream",
     "text": [
      "Лучший результат модели случайного леса:\n",
      "Глубина - 18\n",
      "Число деревьев в случайном лесу - 40\n",
      "Точность - 0.7822706065318819\n"
     ]
    }
   ],
   "source": [
    "best_model_forest = None\n",
    "best_accuracy_forest = 0\n",
    "best_depth_forest = 0\n",
    "best_est_forest = 0\n",
    "\n",
    "forest_train_accuracy_list = []\n",
    "forest_valid_accuracy_list = []\n",
    "forest_depth_list = list(range(1, 20))\n",
    "\n",
    "for est in range(10, 51, 10):\n",
    "    for depth in range(1, 20):\n",
    "        model = RandomForestClassifier(n_estimators=est, max_depth=depth, random_state=12345)\n",
    "        model.fit(features_train, target_train)\n",
    "        \n",
    "        forest_predictions_valid = model.predict(features_valid)\n",
    "        accuracy = accuracy_score(target_valid, forest_predictions_valid)\n",
    "        \n",
    "        if accuracy > best_accuracy_forest:\n",
    "            best_model_forest = model\n",
    "            best_depth_forest = depth\n",
    "            best_est_forest = est\n",
    "            best_accuracy_forest = accuracy\n",
    "            forest_valid_accuracy_list = forest_est_list\n",
    "            \n",
    "print(f'Лучший результат модели случайного леса:\\nГлубина - {best_depth_forest}\\n'\n",
    "      f'Число деревьев в случайном лесу - {best_est_forest}\\nТочность - {best_accuracy_forest}')"
   ]
  },
  {
   "cell_type": "markdown",
   "metadata": {},
   "source": [
    "### Logistic Regression"
   ]
  },
  {
   "cell_type": "code",
   "execution_count": 17,
   "metadata": {},
   "outputs": [
    {
     "name": "stdout",
     "output_type": "stream",
     "text": [
      "Лучший результат модели логистической регрессии:\n",
      "Точность - 0.7200622083981337\n"
     ]
    }
   ],
   "source": [
    "model = LogisticRegression(random_state=12345, max_iter=1000)\n",
    "model.fit(features_train, target_train)\n",
    "regression_predictions_valid = model.predict(features_valid)\n",
    "accuracy_regression = accuracy_score(target_valid, regression_predictions_valid)\n",
    "\n",
    "print(f'Лучший результат модели логистической регрессии:\\nТочность - {accuracy_regression}')"
   ]
  },
  {
   "cell_type": "markdown",
   "metadata": {},
   "source": [
    "**Случайный лес** дал лучший результат точности на валидационной выборке"
   ]
  },
  {
   "cell_type": "markdown",
   "metadata": {},
   "source": [
    "## Проверка модели на тестовой выборке"
   ]
  },
  {
   "cell_type": "markdown",
   "metadata": {},
   "source": [
    "### Random Forest Classifier"
   ]
  },
  {
   "cell_type": "code",
   "execution_count": 18,
   "metadata": {},
   "outputs": [
    {
     "name": "stdout",
     "output_type": "stream",
     "text": [
      "Точность модели случайного леса на тестовой выборке - 0.7791601866251944\n"
     ]
    }
   ],
   "source": [
    "forest_test_predictions = best_model_forest.predict(features_test)\n",
    "forest_accuracy = accuracy_score(target_test, forest_test_predictions)\n",
    "\n",
    "print(f'Точность модели случайного леса на тестовой выборке - {forest_accuracy}')"
   ]
  },
  {
   "cell_type": "markdown",
   "metadata": {},
   "source": [
    "Модель случайного леса дала примерно такую же точность на тестовой выборке. Значит, модель не склонна к переобучению. Также, была достигнута желаемая точность (больше 0.75)"
   ]
  },
  {
   "cell_type": "markdown",
   "metadata": {},
   "source": [
    "## Проверка модели на адекватность"
   ]
  },
  {
   "cell_type": "markdown",
   "metadata": {},
   "source": [
    "Для проверки модели случайного леса на адекватоность, мы сравним результат точности модели с точностью модели, построенной с помощью метода `DummyClassifier`, которая строит прогнозы, используя самые простые связи. Соответственно, если модель случайного леса дает адекватные прогнозы, то ее точность должна быть выше, чем точность модели `DummyClassifier`"
   ]
  },
  {
   "cell_type": "code",
   "execution_count": 19,
   "metadata": {},
   "outputs": [
    {
     "name": "stdout",
     "output_type": "stream",
     "text": [
      "Точность модели DummyClassifier - 0.6936236391912908\n",
      "Модель случайного дерева дает адекватные результаты\n"
     ]
    }
   ],
   "source": [
    "# Построим модель DummyClassifier и посчитаем ее точность на валидационной выборке\n",
    "dummy_model = DummyClassifier(strategy='most_frequent', random_state=12345)\n",
    "dummy_model.fit(features_train, target_train)\n",
    "dummy_predictions_valid = dummy_model.predict(features_valid)\n",
    "accuracy_dummy = accuracy_score(target_valid, dummy_predictions_valid)\n",
    "\n",
    "# Выведем точность модели DummyClassifier на экран\n",
    "print(f'Точность модели DummyClassifier - {accuracy_dummy}')\n",
    "\n",
    "# Сравним точность модели DummyClassifier с точностью модели случайного леса \n",
    "# на валидационной выборке\n",
    "if accuracy_dummy > best_accuracy_forest:\n",
    "    print('Модель случайного дерева дает неточные результаты по сравнению с самой простой моделью'\n",
    "         'DummyClassifier')\n",
    "elif accuracy_dummy < best_accuracy_forest:\n",
    "    print('Модель случайного дерева дает адекватные результаты')\n",
    "else:\n",
    "    print('Модели случайного леса и DummyClassifier дают одинаковую точность. Лучше выбрать '\n",
    "          'другую модель')"
   ]
  },
  {
   "cell_type": "markdown",
   "metadata": {},
   "source": [
    "## Вывод"
   ]
  },
  {
   "cell_type": "markdown",
   "metadata": {},
   "source": [
    "Целью данного проекта было выработать модель для предложения пользователям оптимального тарифа: \"Смарт\" или \"Ультра\".  \n",
    "  \n",
    "Сначала, мы сделали предобработку данных, а именно:\n",
    "- Открыли файл, изучили информацию о нем и его общую структуру\n",
    "- Изменили тип данных в некоторых столбцах\n",
    "- Проверили датасет на наличие дубликатов\n",
    "- Изучили распределение признаков в датасете и построили графики\n",
    "  \n",
    "Далее мы разделили выборку на тренировочную, валидационную и тестовую, используя стратификацию для сохранения первоначального соотношения тарифов в датасете. Так как перед нами стояла задача классификации, мы рассмотрели три модели, а именно:\n",
    "- Дерево решений\n",
    "- Случайный лес\n",
    "- Логистическая регрессия  \n",
    "  \n",
    "Сравнив их точность на валидационной выборке, мы выбрали модель случайного леса в качестве наилучшей, так как она приносила наибольший accuracy - примерно `0.78`. Подобранные гиперпараметры: 40 деревьев с глубиной 18. На тестовой выборке точность модели случайного леса составила примерно `0.779`, что не сильно отличается от результата на валидационной выборке.  \n",
    "  \n",
    "Также, мы проверили модель случайного леса на адекватность, сравнив ее точность с результатом модели DummyClassifier. Так как точность модели случайного леса оказалась выше, мы сделали вывод, что модель дает адекватные результаты. \n",
    "  \n",
    "Подводя итоги, мы построили модель случайного леса, подобрав нужные гиперпараметры, и добились максимальной доли правильных ответов - около `0.779-0.78`. Модель не склонна к переобучению, так как точность на валидационной и тестовой выборках примерно одинаковая. Также, построенная модель адекватна."
   ]
  }
 ],
 "metadata": {
  "kernelspec": {
   "display_name": "Python 3 (ipykernel)",
   "language": "python",
   "name": "python3"
  },
  "language_info": {
   "codemirror_mode": {
    "name": "ipython",
    "version": 3
   },
   "file_extension": ".py",
   "mimetype": "text/x-python",
   "name": "python",
   "nbconvert_exporter": "python",
   "pygments_lexer": "ipython3",
   "version": "3.9.12"
  },
  "toc": {
   "base_numbering": 1,
   "nav_menu": {
    "height": "226px",
    "width": "370px"
   },
   "number_sections": true,
   "sideBar": true,
   "skip_h1_title": true,
   "title_cell": "Содержание",
   "title_sidebar": "Contents",
   "toc_cell": true,
   "toc_position": {
    "height": "calc(100% - 180px)",
    "left": "10px",
    "top": "150px",
    "width": "232.319px"
   },
   "toc_section_display": true,
   "toc_window_display": true
  }
 },
 "nbformat": 4,
 "nbformat_minor": 2
}

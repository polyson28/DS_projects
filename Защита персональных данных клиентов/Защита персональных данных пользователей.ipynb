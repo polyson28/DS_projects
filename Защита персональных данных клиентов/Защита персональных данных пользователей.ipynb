{
 "cells": [
  {
   "cell_type": "markdown",
   "metadata": {},
   "source": [
    "# Защита персональных данных клиентов"
   ]
  },
  {
   "cell_type": "markdown",
   "metadata": {
    "toc": true
   },
   "source": [
    "<h1>Содержание<span class=\"tocSkip\"></span></h1>\n",
    "<div class=\"toc\"><ul class=\"toc-item\"><li><span><a href=\"#Загрузка-данных\" data-toc-modified-id=\"Загрузка-данных-1\"><span class=\"toc-item-num\">1&nbsp;&nbsp;</span>Загрузка данных</a></span></li><li><span><a href=\"#Умножение-матриц\" data-toc-modified-id=\"Умножение-матриц-2\"><span class=\"toc-item-num\">2&nbsp;&nbsp;</span>Умножение матриц</a></span></li><li><span><a href=\"#Алгоритм-преобразования\" data-toc-modified-id=\"Алгоритм-преобразования-3\"><span class=\"toc-item-num\">3&nbsp;&nbsp;</span>Алгоритм преобразования</a></span></li><li><span><a href=\"#Проверка-алгоритма\" data-toc-modified-id=\"Проверка-алгоритма-4\"><span class=\"toc-item-num\">4&nbsp;&nbsp;</span>Проверка алгоритма</a></span></li><li><span><a href=\"#Вывод\" data-toc-modified-id=\"Вывод-5\"><span class=\"toc-item-num\">5&nbsp;&nbsp;</span>Вывод</a></span></li></ul></div>"
   ]
  },
  {
   "cell_type": "markdown",
   "metadata": {},
   "source": [
    "Нам нужно защитить данные клиентов страховой компании «Хоть потоп». Необходимо разработать такой метод преобразования данных, чтобы по ним было сложно восстановить персональную информацию, а также обосновать корректность его работы. \n",
    "\n",
    "Нужно защитить данные, чтобы при преобразовании качество моделей машинного обучения не ухудшилось. Подбирать наилучшую модель не требуется."
   ]
  },
  {
   "cell_type": "markdown",
   "metadata": {},
   "source": [
    "## Загрузка данных"
   ]
  },
  {
   "cell_type": "code",
   "execution_count": 1,
   "metadata": {},
   "outputs": [],
   "source": [
    "# импорт библиотек\n",
    "import pandas as pd\n",
    "import numpy as np\n",
    "from sklearn.linear_model import LinearRegression\n",
    "from sklearn.model_selection import train_test_split\n",
    "from sklearn.metrics import r2_score\n",
    "import matplotlib.pyplot as plt"
   ]
  },
  {
   "cell_type": "code",
   "execution_count": 2,
   "metadata": {},
   "outputs": [],
   "source": [
    "# избавимся от предупреждений\n",
    "import warnings\n",
    "warnings.filterwarnings('ignore')"
   ]
  },
  {
   "cell_type": "code",
   "execution_count": 3,
   "metadata": {},
   "outputs": [],
   "source": [
    "# откроем файл\n",
    "try:\n",
    "    data = pd.read_csv('/datasets/insurance.csv')\n",
    "except:\n",
    "    data = pd.read_csv('https://code.s3.yandex.net/datasets/insurance.csv')"
   ]
  },
  {
   "cell_type": "code",
   "execution_count": 4,
   "metadata": {},
   "outputs": [],
   "source": [
    "def data_overview(data, hist, pie, bars):\n",
    "    \n",
    "    # выведем информацию о датасете\n",
    "    print(data.info(), end='\\n')\n",
    "    \n",
    "    # выведем описание датасета\n",
    "    print(data.describe())\n",
    "    print()\n",
    "    \n",
    "    # выведем первые строчки датафрейма для лучшего понимания структуры\n",
    "    print(data.head(), end='\\n')\n",
    "    \n",
    "    # построим гистограммы и, круговые и столбчатые диаграммы по численным столбцам\n",
    "    for col in pie:\n",
    "        data[col].value_counts().plot(kind='pie', autopct='%1.0f%%')\n",
    "        plt.ylabel('')\n",
    "        plt.title(col)\n",
    "        plt.show()\n",
    "    \n",
    "    for col in bars:\n",
    "        data[col].value_counts().plot(kind='bar')\n",
    "        plt.title(col)\n",
    "        plt.show()\n",
    "        \n",
    "    data[hist].hist(figsize=(10, 4), bins=15);"
   ]
  },
  {
   "cell_type": "code",
   "execution_count": 5,
   "metadata": {
    "scrolled": false
   },
   "outputs": [
    {
     "name": "stdout",
     "output_type": "stream",
     "text": [
      "<class 'pandas.core.frame.DataFrame'>\n",
      "RangeIndex: 5000 entries, 0 to 4999\n",
      "Data columns (total 5 columns):\n",
      " #   Column             Non-Null Count  Dtype  \n",
      "---  ------             --------------  -----  \n",
      " 0   Пол                5000 non-null   int64  \n",
      " 1   Возраст            5000 non-null   float64\n",
      " 2   Зарплата           5000 non-null   float64\n",
      " 3   Члены семьи        5000 non-null   int64  \n",
      " 4   Страховые выплаты  5000 non-null   int64  \n",
      "dtypes: float64(2), int64(3)\n",
      "memory usage: 195.4 KB\n",
      "None\n",
      "               Пол      Возраст      Зарплата  Члены семьи  Страховые выплаты\n",
      "count  5000.000000  5000.000000   5000.000000  5000.000000        5000.000000\n",
      "mean      0.499000    30.952800  39916.360000     1.194200           0.148000\n",
      "std       0.500049     8.440807   9900.083569     1.091387           0.463183\n",
      "min       0.000000    18.000000   5300.000000     0.000000           0.000000\n",
      "25%       0.000000    24.000000  33300.000000     0.000000           0.000000\n",
      "50%       0.000000    30.000000  40200.000000     1.000000           0.000000\n",
      "75%       1.000000    37.000000  46600.000000     2.000000           0.000000\n",
      "max       1.000000    65.000000  79000.000000     6.000000           5.000000\n",
      "\n",
      "   Пол  Возраст  Зарплата  Члены семьи  Страховые выплаты\n",
      "0    1     41.0   49600.0            1                  0\n",
      "1    0     46.0   38000.0            1                  1\n",
      "2    0     29.0   21000.0            0                  0\n",
      "3    0     21.0   41700.0            2                  0\n",
      "4    1     28.0   26100.0            0                  0\n"
     ]
    },
    {
     "data": {
      "image/png": "[encoded data removed]",
      "text/plain": [
       "<Figure size 432x288 with 1 Axes>"
      ]
     },
     "metadata": {},
     "output_type": "display_data"
    },
    {
     "data": {
      "image/png": "[encoded data removed]",
      "text/plain": [
       "<Figure size 432x288 with 1 Axes>"
      ]
     },
     "metadata": {
      "needs_background": "light"
     },
     "output_type": "display_data"
    },
    {
     "data": {
      "image/png": "[encoded data removed]",
      "text/plain": [
       "<Figure size 432x288 with 1 Axes>"
      ]
     },
     "metadata": {
      "needs_background": "light"
     },
     "output_type": "display_data"
    },
    {
     "data": {
      "image/png": "[encoded data removed]",
      "text/plain": [
       "<Figure size 720x288 with 2 Axes>"
      ]
     },
     "metadata": {
      "needs_background": "light"
     },
     "output_type": "display_data"
    }
   ],
   "source": [
    "hist = ['Возраст', 'Зарплата']\n",
    "pie = ['Пол']\n",
    "bars = ['Члены семьи', 'Страховые выплаты']\n",
    "data_overview(data, hist, pie, bars)"
   ]
  },
  {
   "cell_type": "markdown",
   "metadata": {},
   "source": [
    "В данных отсутствуют пропуски.  \n",
    "  \n",
    "По графику можно заметить , что баланс классов по полу клиентов соблюден. Зарплата клиентов распределена примерно равномерно со средним значением около 39916 и стандартным отклонением 9900, распределение по возрасту напоминает биномиальное с средним значением около 30 лет и медианой равной 24 года. В выборке больше клиентов с одним членом семьи и с отсутствием страховых выплат  \n",
    "  \n",
    "Также, для удобства, переименуем названия столбцов в датафрейме, чтобы они были на английском языке"
   ]
  },
  {
   "cell_type": "code",
   "execution_count": 6,
   "metadata": {},
   "outputs": [],
   "source": [
    "columns = ['sex', 'age', 'wage', 'family_members', 'insurance_payments']\n",
    "data.columns = columns\n",
    "#data.head()"
   ]
  },
  {
   "cell_type": "markdown",
   "metadata": {},
   "source": [
    "## Умножение матриц"
   ]
  },
  {
   "cell_type": "markdown",
   "metadata": {},
   "source": [
    "Обозначения:\n",
    "\n",
    "- $X$ — матрица признаков (нулевой столбец состоит из единиц)\n",
    "\n",
    "- $y$ — вектор целевого признака\n",
    "\n",
    "- $P$ — матрица, на которую умножаются признаки\n",
    "\n",
    "- $w$ — вектор весов линейной регрессии (нулевой элемент равен сдвигу)"
   ]
  },
  {
   "cell_type": "markdown",
   "metadata": {},
   "source": [
    "Предсказания:\n",
    "\n",
    "$$\n",
    "a = Xw\n",
    "$$\n",
    "\n",
    "Задача обучения:\n",
    "\n",
    "$$\n",
    "w = \\arg\\min_w MSE(Xw, y)\n",
    "$$\n",
    "\n",
    "Формула обучения:\n",
    "\n",
    "$$\n",
    "w = (X^T X)^{-1} X^T y\n",
    "$$"
   ]
  },
  {
   "cell_type": "markdown",
   "metadata": {},
   "source": [
    "**Ответ:** при домножении признаков на обратимую матрицу качество линейной регрессии не изменится, при условии, что ее можно обучить заново\n",
    "\n",
    "**Обоснование:**   \n",
    "  \n",
    "*Так как по заданию мы можем заново обучить регрессию, выведем формулу для обучения на новых признаках:*\n",
    "$$ a_{new} = XPw_{new} $$\n",
    "$$ w_{new} = \\arg\\min_w MSE(XPw, y) $$\n",
    "$$ MSE = (y-XPw)^{T}(y-XPw) -> min_w $$\n",
    "$$ FOC: d(y-XPw)^{T}(y-XPw)+(y-XPw)^{T}d(y-XPw) = $$\n",
    "$$ = 2(y-XPw)^{T}d(y-XPw) = $$\n",
    "$$ = 2(y-XPw)^{T}(-XP) = 0 $$\n",
    "$$ (y-XPw)^{T}XP = 0 $$\n",
    "$$ (XP)^{T}(y-XPw) = 0 $$\n",
    "$$ (XP)^{T}y = (XP)^{T}XPw $$  \n",
    "  \n",
    "$$ w_{new} = ((XP)^{T}XP)^{-1}(XP)^{T}y = $$\n",
    "$$ = (P^{T} (X^{T} X) P)^{-1} (XP)^{T} y = $$\n",
    "$$ = P^{-1} (X^{T} X)^{-1} (P^{T})^{-1} P^{T} X^{T} y = $$\n",
    "$$ = P^{-1} (X^{T} X)^{-1} X^{T} y $$\n",
    "  \n",
    "*Предсказания раньше (без домножения на P):*  \n",
    "$$ a = Xw = XEw = XPP^{-1}w = (XP)P^{-1}w = (XP)w_{new} $$\n",
    "  \n",
    "*Подставив получившееся значение w_new в формулу предсказаний, мы получим:*\n",
    "  \n",
    "$$ a = (XP) P^{-1} (X^{T} X)^{-1} X^{T} y $$\n",
    "$$ = X P P^{-1} (X^{T} X)^{-1} X^{T} y = $$\n",
    "$$ = X (X^{T} X)^{-1} X^{T} y $$\n",
    "  \n",
    "Таким образом, при домножении матрицы с признаками на обратимую матрицу Р мы получили такое же значение предсказаний, как и без домножения (пользуясь условием, что регрессию можно обучить заново). Следовательно, можно сделать вывод, что качество регрессии не изменится при домножении матрицы признаков на обратимую матрицу Р"
   ]
  },
  {
   "cell_type": "markdown",
   "metadata": {},
   "source": [
    "## Алгоритм преобразования"
   ]
  },
  {
   "cell_type": "markdown",
   "metadata": {},
   "source": [
    "**Алгоритм**\n",
    "\n",
    "В целях защиты данных клиентов, проведем следующие шаги:  \n",
    "1) Разделим датасет на признаки и целевой признак\n",
    "2) Создадим квадратную обратимую матрицу P с размернотью, равной количеству столбцов в наборе признаков\n",
    "3) Проверим получившуюся матрицу на обратимость\n",
    "4) Домножим все признаки на обратимую матрицу P"
   ]
  },
  {
   "cell_type": "markdown",
   "metadata": {},
   "source": [
    "**Обоснование**\n",
    "\n",
    "Как было доказано ранее, качество линейной регрессии не изменится при домножении признаков на обратимую матрицу (при возможности обучения линейной регрессии заново)"
   ]
  },
  {
   "cell_type": "markdown",
   "metadata": {},
   "source": [
    "Сначала разделим признаки на обычные и целевой"
   ]
  },
  {
   "cell_type": "code",
   "execution_count": 7,
   "metadata": {},
   "outputs": [],
   "source": [
    "features = data.drop('insurance_payments', axis=1)\n",
    "target = data['insurance_payments']"
   ]
  },
  {
   "cell_type": "markdown",
   "metadata": {},
   "source": [
    "Теперь нужно создать алгоритм генерации обратимой матрицы, чтобы домножить на нее признаки"
   ]
  },
  {
   "cell_type": "code",
   "execution_count": 8,
   "metadata": {},
   "outputs": [
    {
     "name": "stdout",
     "output_type": "stream",
     "text": [
      "Получившаяся матрица Р:\n",
      " [[5 2 5 2]\n",
      " [8 0 7 2]\n",
      " [6 4 7 1]\n",
      " [8 0 6 2]]\n"
     ]
    }
   ],
   "source": [
    "# Сохраним размерность матрицы Р\n",
    "size = len(columns) - 1\n",
    "\n",
    "# Чтобы матрица Р не менялась при каждом выводе, сохраним random seed\n",
    "np.random.seed(12345)\n",
    "\n",
    "# Напишем цикл для построении матрицы Р и ее проверки на обратимость\n",
    "# Цикл бесконечный, он прерывается в том случае, когда матрица обратима\n",
    "while True:\n",
    "    p = np.random.randint(0, 10, size=(size, size))\n",
    "    try:\n",
    "        product = np.dot(p, np.linalg.inv(p))\n",
    "        if (product == np.identity(size)).all():\n",
    "            break\n",
    "    except:\n",
    "        continue\n",
    "#np.dot(p, np.linalg.inv(p))\n",
    "\n",
    "print(f'Получившаяся матрица Р:\\n {p}')"
   ]
  },
  {
   "cell_type": "markdown",
   "metadata": {},
   "source": [
    "Защитим данные клиентов с помощью умножения полученной матрицы Р на признаки"
   ]
  },
  {
   "cell_type": "code",
   "execution_count": 9,
   "metadata": {},
   "outputs": [],
   "source": [
    "protected_features = pd.DataFrame(np.dot(features.values, p), columns=features.columns)\n",
    "# protected_features"
   ]
  },
  {
   "cell_type": "markdown",
   "metadata": {},
   "source": [
    "Разделим выборки на тренировочную и тестовую и также сохраним защищенные признаки из упомянутых выборок. Для этого умножим незащищенные признаки из упомянутых выборок на матрицу Р"
   ]
  },
  {
   "cell_type": "code",
   "execution_count": 10,
   "metadata": {},
   "outputs": [],
   "source": [
    "features_train, features_test, target_train, target_test = train_test_split(\n",
    "    features, target, test_size=0.2, random_state=12345\n",
    ")"
   ]
  },
  {
   "cell_type": "code",
   "execution_count": 11,
   "metadata": {},
   "outputs": [],
   "source": [
    "features_train_protected = np.dot(features_train, p)\n",
    "features_test_protected = np.dot(features_test, p)"
   ]
  },
  {
   "cell_type": "markdown",
   "metadata": {},
   "source": [
    "## Проверка алгоритма"
   ]
  },
  {
   "cell_type": "markdown",
   "metadata": {},
   "source": [
    "Напишем функцию для построения модели линейной регрессии. Функция принимает на вход обучающие и тестовые выборки с признаками и целевым признаком, а также - описание признаков (в нашем случае - изначальных / защищенных). Функция строит модель линейной регрессии, обучает ее на тренировочной выборке, строит прогнозы на тестовой выборке и возвращает саму модель и мерку r2 score. Также, функция выводит получившийся r2 score модели на экран"
   ]
  },
  {
   "cell_type": "code",
   "execution_count": 12,
   "metadata": {},
   "outputs": [],
   "source": [
    "def regression_builder(features_train, features_test, target_train, target_test, \n",
    "                       description='изначальных'):\n",
    "    model = LinearRegression()\n",
    "    model.fit(features_train, target_train)\n",
    "\n",
    "    predictions = model.predict(features_test)\n",
    "    r2 = r2_score(target_test, predictions)\n",
    "\n",
    "    print(f'R2 линейной регрессии при {description} признаках: {r2}')\n",
    "    \n",
    "    return model, r2"
   ]
  },
  {
   "cell_type": "markdown",
   "metadata": {},
   "source": [
    "Оценим качество модели на незащищенных данных"
   ]
  },
  {
   "cell_type": "code",
   "execution_count": 13,
   "metadata": {},
   "outputs": [
    {
     "name": "stdout",
     "output_type": "stream",
     "text": [
      "R2 линейной регрессии при изначальных признаках: 0.41176839567705226\n"
     ]
    }
   ],
   "source": [
    "model_unprotected, r2_unprotected = regression_builder(\n",
    "    features_train, features_test, target_train, target_test\n",
    ")"
   ]
  },
  {
   "cell_type": "markdown",
   "metadata": {},
   "source": [
    "Оценим качество модели на защищенных данных. Для этого обучим модель линейной регрессии на новых признаках и также посчитаем r2 score"
   ]
  },
  {
   "cell_type": "code",
   "execution_count": 14,
   "metadata": {},
   "outputs": [
    {
     "name": "stdout",
     "output_type": "stream",
     "text": [
      "R2 линейной регрессии при защищенных признаках: 0.41176839567710033\n"
     ]
    }
   ],
   "source": [
    "model_protected, r2_protected = regression_builder(\n",
    "    features_train_protected, features_test_protected, target_train, target_test, \n",
    "    description='защищенных'\n",
    ")"
   ]
  },
  {
   "cell_type": "markdown",
   "metadata": {},
   "source": [
    "R2 моделей на изначальных и защищенных признаках совпадает, из чего можно сделать вывод, что защита данных клиентов прошла успешно и качество модели не пострадало"
   ]
  },
  {
   "cell_type": "markdown",
   "metadata": {},
   "source": [
    "## Вывод"
   ]
  },
  {
   "cell_type": "markdown",
   "metadata": {},
   "source": [
    "Подводя итоги, целью данного проекта было защитить данные клиентов таким образом, чтобы не потерять качество модели линейной регрессии.  \n",
    "  \n",
    "Сначала мы открыли файл с данными и изучили его. На данном этапе мы выяснили следующее: \n",
    "- Выборка по полу клиентов сбалансированная\n",
    "- Зарплата клиентов распределена примерно равномерно\n",
    "- Распределение возраста клиентов напоминает биномиальное\n",
    "- В выбрке преобладают клиенты с одним членом в семье\n",
    "Также, мы изменили названия столбцов в датасете для удобства.  \n",
    "  \n",
    "На следующем этапе мы доказали следующий факт: \n",
    "- Если уножить признаки на обратимую матрицу, качество линейной регрессии не изменится, при условии, что модель можно обучить заново на новых признаках\n",
    "  \n",
    "Доказательство выше упомянутого факта натолкнуло нас на следующую мысль: данные клиентов можно защитить домножением на обратимую матрицу Р, сгенерированную рандомным образом. Таким образом, персональные данные клиентов будут преобразованы, а качество регрессии не изменится.  \n",
    "  \n",
    "Далее, мы описали алгоритм действий, преобразовали данные в соотвестсвии с ним и доказали, что качество регрессии не изменится для модели, построенной по защищенным признакам. Для измерения качества регрессии использовалась мерка R2 score. Для моделей, построенных на изначальных и защищенных данных, качество регрессии получилось одинаковым - примерно `0.412`.  \n",
    "  \n",
    "Таким образом, цель данного проекта была выполнена: персональные данные клиентов были защищены, а качество линейной регрессии на преобразованных данных не изменилось. Проект может быть представлен заказчику."
   ]
  }
 ],
 "metadata": {
  "ExecuteTimeLog": [
   {
    "duration": 2239,
    "start_time": "2023-04-20T05:11:06.834Z"
   },
   {
    "duration": 2,
    "start_time": "2023-04-20T05:11:09.075Z"
   },
   {
    "duration": 34,
    "start_time": "2023-04-20T05:11:09.079Z"
   },
   {
    "duration": 4,
    "start_time": "2023-04-20T05:11:26.692Z"
   },
   {
    "duration": 837,
    "start_time": "2023-04-20T05:11:27.097Z"
   },
   {
    "duration": 4,
    "start_time": "2023-04-20T05:11:29.237Z"
   },
   {
    "duration": 4,
    "start_time": "2023-04-20T05:15:01.272Z"
   },
   {
    "duration": 48,
    "start_time": "2023-04-20T05:15:02.788Z"
   },
   {
    "duration": 3,
    "start_time": "2023-04-20T05:15:25.767Z"
   },
   {
    "duration": 7,
    "start_time": "2023-04-20T05:15:26.529Z"
   },
   {
    "duration": 3,
    "start_time": "2023-04-20T05:15:26.712Z"
   },
   {
    "duration": 8,
    "start_time": "2023-04-20T05:15:30.516Z"
   },
   {
    "duration": 11,
    "start_time": "2023-04-20T05:15:30.913Z"
   },
   {
    "duration": 7,
    "start_time": "2023-04-20T05:15:31.381Z"
   }
  ],
  "kernelspec": {
   "display_name": "Python 3 (ipykernel)",
   "language": "python",
   "name": "python3"
  },
  "language_info": {
   "codemirror_mode": {
    "name": "ipython",
    "version": 3
   },
   "file_extension": ".py",
   "mimetype": "text/x-python",
   "name": "python",
   "nbconvert_exporter": "python",
   "pygments_lexer": "ipython3",
   "version": "3.9.12"
  },
  "toc": {
   "base_numbering": 1,
   "nav_menu": {},
   "number_sections": true,
   "sideBar": true,
   "skip_h1_title": true,
   "title_cell": "Содержание",
   "title_sidebar": "Contents",
   "toc_cell": true,
   "toc_position": {
    "height": "calc(100% - 180px)",
    "left": "10px",
    "top": "150px",
    "width": "290.391px"
   },
   "toc_section_display": true,
   "toc_window_display": true
  }
 },
 "nbformat": 4,
 "nbformat_minor": 2
}

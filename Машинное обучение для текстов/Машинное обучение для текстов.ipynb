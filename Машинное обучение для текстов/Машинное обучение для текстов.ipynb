{
 "cells": [
  {
   "cell_type": "markdown",
   "metadata": {},
   "source": [
    "# Проект для «Викишоп»"
   ]
  },
  {
   "cell_type": "markdown",
   "metadata": {
    "toc": true
   },
   "source": [
    "<h1>Содержание<span class=\"tocSkip\"></span></h1>\n",
    "<div class=\"toc\"><ul class=\"toc-item\"><li><span><a href=\"#Подготовка\" data-toc-modified-id=\"Подготовка-1\"><span class=\"toc-item-num\">1&nbsp;&nbsp;</span>Подготовка</a></span></li><li><span><a href=\"#Обучение\" data-toc-modified-id=\"Обучение-2\"><span class=\"toc-item-num\">2&nbsp;&nbsp;</span>Обучение</a></span><ul class=\"toc-item\"><li><span><a href=\"#Формирование-и-подготовка-признаков\" data-toc-modified-id=\"Формирование-и-подготовка-признаков-2.1\"><span class=\"toc-item-num\">2.1&nbsp;&nbsp;</span>Формирование и подготовка признаков</a></span></li><li><span><a href=\"#Логистическая-регрессия\" data-toc-modified-id=\"Логистическая-регрессия-2.2\"><span class=\"toc-item-num\">2.2&nbsp;&nbsp;</span>Логистическая регрессия</a></span></li><li><span><a href=\"#Дерево-решений\" data-toc-modified-id=\"Дерево-решений-2.3\"><span class=\"toc-item-num\">2.3&nbsp;&nbsp;</span>Дерево решений</a></span></li><li><span><a href=\"#Лес-деревьев-решений\" data-toc-modified-id=\"Лес-деревьев-решений-2.4\"><span class=\"toc-item-num\">2.4&nbsp;&nbsp;</span>Лес деревьев решений</a></span></li></ul></li><li><span><a href=\"#Сравнение-результатов-и-выбор-лучшей-модели\" data-toc-modified-id=\"Сравнение-результатов-и-выбор-лучшей-модели-3\"><span class=\"toc-item-num\">3&nbsp;&nbsp;</span>Сравнение результатов и выбор лучшей модели</a></span></li><li><span><a href=\"#Тестирование-модели\" data-toc-modified-id=\"Тестирование-модели-4\"><span class=\"toc-item-num\">4&nbsp;&nbsp;</span>Тестирование модели</a></span></li><li><span><a href=\"#Выводы\" data-toc-modified-id=\"Выводы-5\"><span class=\"toc-item-num\">5&nbsp;&nbsp;</span>Выводы</a></span></li></ul></div>"
   ]
  },
  {
   "cell_type": "markdown",
   "metadata": {},
   "source": [
    "Интернет-магазин «Викишоп» запускает новый сервис. Теперь пользователи могут редактировать и дополнять описания товаров, как в вики-сообществах. То есть клиенты предлагают свои правки и комментируют изменения других. Магазину нужен инструмент, который будет искать токсичные комментарии и отправлять их на модерацию. \n",
    "\n",
    "Необходимо обучить модель классифицировать комментарии на позитивные и негативные. В нашем распоряжении набор данных с разметкой о токсичности правок. Данные находятся в файле `toxic_comments.csv`. Столбец *text* в нём содержит текст комментария, а *toxic* — целевой признак.\n",
    "\n",
    "Нужно построить модель со значением метрики качества *F1* не меньше 0.75. "
   ]
  },
  {
   "cell_type": "markdown",
   "metadata": {},
   "source": [
    "## Подготовка"
   ]
  },
  {
   "cell_type": "code",
   "execution_count": 1,
   "metadata": {
    "scrolled": true
   },
   "outputs": [
    {
     "name": "stderr",
     "output_type": "stream",
     "text": [
      "[nltk_data] Downloading package averaged_perceptron_tagger to\n",
      "[nltk_data]     C:\\Users\\Polina\\AppData\\Roaming\\nltk_data...\n",
      "[nltk_data]   Package averaged_perceptron_tagger is already up-to-\n",
      "[nltk_data]       date!\n",
      "[nltk_data] Downloading package stopwords to\n",
      "[nltk_data]     C:\\Users\\Polina\\AppData\\Roaming\\nltk_data...\n",
      "[nltk_data]   Package stopwords is already up-to-date!\n"
     ]
    }
   ],
   "source": [
    "# импорт библиотек\n",
    "import pandas as pd\n",
    "import matplotlib.pyplot as plt\n",
    "import nltk\n",
    "from nltk.stem import WordNetLemmatizer\n",
    "nltk.download('averaged_perceptron_tagger')\n",
    "from nltk.corpus import wordnet\n",
    "import re \n",
    "from tqdm import tqdm\n",
    "from sklearn.feature_extraction.text import TfidfVectorizer\n",
    "from nltk.corpus import stopwords as nltk_stopwords\n",
    "nltk.download('stopwords')\n",
    "from sklearn.model_selection import train_test_split, cross_val_score\n",
    "from sklearn.linear_model import LogisticRegression\n",
    "from sklearn.tree import DecisionTreeClassifier\n",
    "from catboost import CatBoostClassifier, Pool\n",
    "import numpy as np\n",
    "from sklearn.ensemble import RandomForestClassifier\n",
    "from sklearn.metrics import f1_score\n",
    "from sklearn.pipeline import Pipeline, make_pipeline"
   ]
  },
  {
   "cell_type": "code",
   "execution_count": 2,
   "metadata": {},
   "outputs": [],
   "source": [
    "# Избавимся от предупреждений\n",
    "import warnings\n",
    "warnings.filterwarnings('ignore')"
   ]
  },
  {
   "cell_type": "code",
   "execution_count": 3,
   "metadata": {},
   "outputs": [],
   "source": [
    "# откроем файл\n",
    "try:\n",
    "    data = pd.read_csv('/datasets/toxic_comments.csv')\n",
    "except:\n",
    "    data = pd.read_csv('https://code.s3.yandex.net/datasets/toxic_comments.csv')"
   ]
  },
  {
   "cell_type": "code",
   "execution_count": 4,
   "metadata": {},
   "outputs": [],
   "source": [
    "def data_overview(data):\n",
    "    \n",
    "    # Выведем первые 5 строчек датасета для лучшего понимания структуры\n",
    "    display(data.head())\n",
    "    \n",
    "    # Выведем информацию о датасете\n",
    "    display(data.info())\n",
    "    \n",
    "    # Построим круговую диаграмму по распределению комментариев\n",
    "    data['toxic'].value_counts().plot(kind='pie', autopct='%1.1f%%')\n",
    "    plt.title('Распределение комментариев')\n",
    "    plt.legend(['not toxic', 'toxic'])\n",
    "    plt.ylabel('')\n",
    "    plt.show()"
   ]
  },
  {
   "cell_type": "code",
   "execution_count": 5,
   "metadata": {
    "scrolled": false
   },
   "outputs": [
    {
     "data": {
      "text/html": [
       "<div>\n",
       "<style scoped>\n",
       "    .dataframe tbody tr th:only-of-type {\n",
       "        vertical-align: middle;\n",
       "    }\n",
       "\n",
       "    .dataframe tbody tr th {\n",
       "        vertical-align: top;\n",
       "    }\n",
       "\n",
       "    .dataframe thead th {\n",
       "        text-align: right;\n",
       "    }\n",
       "</style>\n",
       "<table border=\"1\" class=\"dataframe\">\n",
       "  <thead>\n",
       "    <tr style=\"text-align: right;\">\n",
       "      <th></th>\n",
       "      <th>Unnamed: 0</th>\n",
       "      <th>text</th>\n",
       "      <th>toxic</th>\n",
       "    </tr>\n",
       "  </thead>\n",
       "  <tbody>\n",
       "    <tr>\n",
       "      <th>0</th>\n",
       "      <td>0</td>\n",
       "      <td>Explanation\\nWhy the edits made under my usern...</td>\n",
       "      <td>0</td>\n",
       "    </tr>\n",
       "    <tr>\n",
       "      <th>1</th>\n",
       "      <td>1</td>\n",
       "      <td>D'aww! He matches this background colour I'm s...</td>\n",
       "      <td>0</td>\n",
       "    </tr>\n",
       "    <tr>\n",
       "      <th>2</th>\n",
       "      <td>2</td>\n",
       "      <td>Hey man, I'm really not trying to edit war. It...</td>\n",
       "      <td>0</td>\n",
       "    </tr>\n",
       "    <tr>\n",
       "      <th>3</th>\n",
       "      <td>3</td>\n",
       "      <td>\"\\nMore\\nI can't make any real suggestions on ...</td>\n",
       "      <td>0</td>\n",
       "    </tr>\n",
       "    <tr>\n",
       "      <th>4</th>\n",
       "      <td>4</td>\n",
       "      <td>You, sir, are my hero. Any chance you remember...</td>\n",
       "      <td>0</td>\n",
       "    </tr>\n",
       "  </tbody>\n",
       "</table>\n",
       "</div>"
      ],
      "text/plain": [
       "   Unnamed: 0                                               text  toxic\n",
       "0           0  Explanation\\nWhy the edits made under my usern...      0\n",
       "1           1  D'aww! He matches this background colour I'm s...      0\n",
       "2           2  Hey man, I'm really not trying to edit war. It...      0\n",
       "3           3  \"\\nMore\\nI can't make any real suggestions on ...      0\n",
       "4           4  You, sir, are my hero. Any chance you remember...      0"
      ]
     },
     "metadata": {},
     "output_type": "display_data"
    },
    {
     "name": "stdout",
     "output_type": "stream",
     "text": [
      "<class 'pandas.core.frame.DataFrame'>\n",
      "RangeIndex: 159292 entries, 0 to 159291\n",
      "Data columns (total 3 columns):\n",
      " #   Column      Non-Null Count   Dtype \n",
      "---  ------      --------------   ----- \n",
      " 0   Unnamed: 0  159292 non-null  int64 \n",
      " 1   text        159292 non-null  object\n",
      " 2   toxic       159292 non-null  int64 \n",
      "dtypes: int64(2), object(1)\n",
      "memory usage: 3.6+ MB\n"
     ]
    },
    {
     "data": {
      "text/plain": [
       "None"
      ]
     },
     "metadata": {},
     "output_type": "display_data"
    },
    {
     "data": {
      "image/png": "[encoded data removed]",
      "text/plain": [
       "<Figure size 640x480 with 1 Axes>"
      ]
     },
     "metadata": {},
     "output_type": "display_data"
    }
   ],
   "source": [
    "data_overview(data)"
   ]
  },
  {
   "cell_type": "code",
   "execution_count": 6,
   "metadata": {},
   "outputs": [],
   "source": [
    "# Удалим ненужные столбцы\n",
    "ata = data[['text', 'toxic']]\n",
    "# data.head()"
   ]
  },
  {
   "cell_type": "markdown",
   "metadata": {},
   "source": [
    "Нам доступно 159292 строчек с текстом комментария на английском языке и их разметкой по поводу токсичности, по которым нам предстоит построить модель. Пропуски в данных отсутствуют.  \n",
    "  \n",
    "Также, по круговой диаграмме виден большой бисбаланс классов в целевом признаке: токсичные комментарии составляют примерно 10% выборки"
   ]
  },
  {
   "cell_type": "markdown",
   "metadata": {},
   "source": [
    "Создадим корпус предложений из столбца `text` и напишем функции для подготовки данных"
   ]
  },
  {
   "cell_type": "code",
   "execution_count": 7,
   "metadata": {},
   "outputs": [],
   "source": [
    "corpus = data['text'].values"
   ]
  },
  {
   "cell_type": "code",
   "execution_count": 8,
   "metadata": {},
   "outputs": [],
   "source": [
    "def word_tag(nltk_tag):\n",
    "    tag_dict = {\n",
    "        'N': wordnet.NOUN,\n",
    "        'J': wordnet.ADJ,\n",
    "        'V': wordnet.VERB,\n",
    "        'R': wordnet.ADV\n",
    "    }\n",
    "    return tag_dict.get(nltk_tag[0].upper(), None)"
   ]
  },
  {
   "cell_type": "code",
   "execution_count": 9,
   "metadata": {
    "scrolled": false
   },
   "outputs": [],
   "source": [
    "# Проверим работу функции\n",
    "\n",
    "#list(map(lambda x: (x[0], word_tag(x[1])), \n",
    "         #nltk.pos_tag(['beautiful', 'cat', 'is', 'running', 'quickly'])))"
   ]
  },
  {
   "cell_type": "code",
   "execution_count": 10,
   "metadata": {},
   "outputs": [],
   "source": [
    "def corrected_sentence_builder(sentence):\n",
    "    \n",
    "    # Отделим ненужные символы из текста \n",
    "    adjusted = re.sub(r'[^a-zA-Z]', ' ', sentence).split()\n",
    "    \n",
    "    # Создадим список отмеченных слов в соответствии с частью речи\n",
    "    tagged_words = nltk.pos_tag(adjusted)\n",
    "    tagged_words = list(map(lambda x: (x[0], word_tag(x[1])), tagged_words))\n",
    "    \n",
    "    # Лемматизируем предложение\n",
    "    lemmatized = []\n",
    "    lemmatizer = WordNetLemmatizer()\n",
    "    for word, tag in tagged_words:\n",
    "        if tag is None:\n",
    "            lemmatized.append(word)\n",
    "        else:\n",
    "            lemmatized.append(lemmatizer.lemmatize(word, tag))\n",
    "    lemmatized_sentence = ' '.join(lemmatized)\n",
    "    \n",
    "    return lemmatized_sentence"
   ]
  },
  {
   "cell_type": "code",
   "execution_count": 11,
   "metadata": {
    "scrolled": true
   },
   "outputs": [],
   "source": [
    "# Проверим работу функции\n",
    "\n",
    "# corrected_sentence_builder('beautiful cats are running quickly')"
   ]
  },
  {
   "cell_type": "code",
   "execution_count": 12,
   "metadata": {},
   "outputs": [
    {
     "data": {
      "text/plain": [
       "'\\nfor i in tqdm(range(len(corpus))):\\n    corpus[i] = corrected_sentence_builder(corpus[i])\\n'"
      ]
     },
     "execution_count": 12,
     "metadata": {},
     "output_type": "execute_result"
    }
   ],
   "source": [
    "'''\n",
    "for i in tqdm(range(len(corpus))):\n",
    "    corpus[i] = corrected_sentence_builder(corpus[i])\n",
    "'''"
   ]
  },
  {
   "cell_type": "code",
   "execution_count": 13,
   "metadata": {},
   "outputs": [
    {
     "data": {
      "text/plain": [
       "\"\\ncorpus = pd.DataFrame(corpus)\\ncorpus.columns = ['lemmatized_text']\\ncorpus.head()\\ncorpus.to_csv('/Users/Polina/Downloads/corpus')\\n\""
      ]
     },
     "execution_count": 13,
     "metadata": {},
     "output_type": "execute_result"
    }
   ],
   "source": [
    "'''\n",
    "corpus = pd.DataFrame(corpus)\n",
    "corpus.columns = ['lemmatized_text']\n",
    "corpus.head()\n",
    "corpus.to_csv('/Users/Polina/Downloads/corpus')\n",
    "'''"
   ]
  },
  {
   "cell_type": "markdown",
   "metadata": {},
   "source": [
    "Так как лемматизация и обработка текста занимает много времени, сохраним обработанный корпус и закомментируем ячейки"
   ]
  },
  {
   "cell_type": "code",
   "execution_count": 14,
   "metadata": {},
   "outputs": [],
   "source": [
    "corpus_adjusted = pd.read_csv('/Users/Polina/Downloads/corpus')\n",
    "corpus_adjusted = corpus_adjusted['lemmatized_text'].values.astype('U')\n",
    "corpus_adjusted = list(corpus_adjusted)\n",
    "#corpus_adjusted"
   ]
  },
  {
   "cell_type": "code",
   "execution_count": 15,
   "metadata": {},
   "outputs": [],
   "source": [
    "features = corpus_adjusted\n",
    "#features\n",
    "\n",
    "target = data['toxic']\n",
    "#target"
   ]
  },
  {
   "cell_type": "markdown",
   "metadata": {},
   "source": [
    "В данном разделе мы:\n",
    "- изучили данные\n",
    "- провели предобработку текста\n",
    "  - убрали ненужные символы\n",
    "  - лемматизировали текст  \n",
    "- Разделили выборку на обучающую и тестовую\n",
    "    \n",
    "Данные готовы к формированию признаков и построению модели"
   ]
  },
  {
   "cell_type": "markdown",
   "metadata": {},
   "source": [
    "## Обучение"
   ]
  },
  {
   "cell_type": "markdown",
   "metadata": {},
   "source": [
    "### Формирование и подготовка признаков"
   ]
  },
  {
   "cell_type": "markdown",
   "metadata": {},
   "source": [
    "Разделим выборки на тренировочную и тестовую"
   ]
  },
  {
   "cell_type": "code",
   "execution_count": 16,
   "metadata": {},
   "outputs": [],
   "source": [
    "unadjusted_features_train, unadjusted_features_test, target_train, target_test = (\n",
    "    train_test_split(features, target, test_size=0.2, random_state=12345, stratify=target)\n",
    ")\n",
    "#features_train.shape\n",
    "#features_test.shape\n",
    "#target_train.shape\n",
    "#target_test.shape"
   ]
  },
  {
   "cell_type": "markdown",
   "metadata": {},
   "source": [
    "Создадим признаки на основе модели TF-IDF"
   ]
  },
  {
   "cell_type": "code",
   "execution_count": 17,
   "metadata": {},
   "outputs": [],
   "source": [
    "# Сохраним стоп слова\n",
    "stopwords = set(nltk_stopwords.words('english'))"
   ]
  },
  {
   "cell_type": "markdown",
   "metadata": {},
   "source": [
    "Признаки сформированы и готовы к построению моделей. Так как нам необходимо определить, таксичное ли определенное выражение или нет, перед нами стоит задача бинарной классификации. Рассмотрим следующие модели:\n",
    "- логистическая регрессия\n",
    "- дерево решений\n",
    "- лес деревьев решений"
   ]
  },
  {
   "cell_type": "markdown",
   "metadata": {},
   "source": [
    "### Логистическая регрессия"
   ]
  },
  {
   "cell_type": "markdown",
   "metadata": {},
   "source": [
    "Подберем лучшее значение гипермараметра С для модели логистической регрессии"
   ]
  },
  {
   "cell_type": "code",
   "execution_count": 18,
   "metadata": {},
   "outputs": [
    {
     "data": {
      "text/plain": [
       "\"\\n%%time\\n\\nf1_regression = 0\\nc = 0\\n\\nfor i in tqdm(np.arange(0.5, 3.5, 0.5)):\\n    pipe_lr = Pipeline([\\n        ('vectorizer', TfidfVectorizer(stop_words=stopwords)),\\n        ('regression', LogisticRegression(class_weight='balanced', C=i, random_state=12345))\\n    ])\\n    score = cross_val_score(pipe_lr, unadjusted_features_train, \\n                                    target_train, scoring='f1', cv=5).mean()\\n    if score > f1_regression:\\n        f1_regression = score\\n        c = i\\n\\nprint(f'Показатель c для лучшей модели: {c}\\n'\\n     f'Значение F1 для логистической регрессии: {f1_regression}')\\n\""
      ]
     },
     "execution_count": 18,
     "metadata": {},
     "output_type": "execute_result"
    }
   ],
   "source": [
    "'''\n",
    "%%time\n",
    "\n",
    "f1_regression = 0\n",
    "c = 0\n",
    "\n",
    "for i in tqdm(np.arange(0.5, 3.5, 0.5)):\n",
    "    pipe_lr = Pipeline([\n",
    "        ('vectorizer', TfidfVectorizer(stop_words=stopwords)),\n",
    "        ('regression', LogisticRegression(class_weight='balanced', C=i, random_state=12345))\n",
    "    ])\n",
    "    score = cross_val_score(pipe_lr, unadjusted_features_train, \n",
    "                                    target_train, scoring='f1', cv=5).mean()\n",
    "    if score > f1_regression:\n",
    "        f1_regression = score\n",
    "        c = i\n",
    "\n",
    "print(f'Показатель c для лучшей модели: {c}\\n'\n",
    "     f'Значение F1 для логистической регрессии: {f1_regression}')\n",
    "'''"
   ]
  },
  {
   "cell_type": "markdown",
   "metadata": {},
   "source": [
    "Чтобы не прогонять модель каждый раз, что занимает много времени, сразу сохраним получившийся результат"
   ]
  },
  {
   "cell_type": "code",
   "execution_count": 19,
   "metadata": {
    "scrolled": true
   },
   "outputs": [
    {
     "name": "stdout",
     "output_type": "stream",
     "text": [
      "Показатель c для лучшей модели: 3\n",
      "Значение F1 для логистической регрессии: 0.7548644490046963\n",
      "Время рассчета модели: 4min 43s\n"
     ]
    }
   ],
   "source": [
    "# Результаты лучшей модели LogosticRegression\n",
    "c = 3\n",
    "regression_time = '4min 43s'\n",
    "f1_regression = 0.7548644490046963\n",
    "regression = LogisticRegression(class_weight='balanced', C=c, random_state=12345)\n",
    "\n",
    "print(f'Показатель c для лучшей модели: {c}\\n'\n",
    "     f'Значение F1 для логистической регрессии: {f1_regression}\\n'\n",
    "     f'Время рассчета модели: {regression_time}')"
   ]
  },
  {
   "cell_type": "markdown",
   "metadata": {},
   "source": [
    "### Дерево решений"
   ]
  },
  {
   "cell_type": "code",
   "execution_count": 20,
   "metadata": {},
   "outputs": [
    {
     "data": {
      "text/plain": [
       "\"\\n%%time\\n\\nbest_depth = 0\\nmin_splits = 0\\nf1_tree = 0\\ntree = None\\n\\nfor i in tqdm(range(1, 6)):\\n    for splits in range(2, 6):\\n        pipe_tree = Pipeline([\\n        ('vectorizer', TfidfVectorizer(stop_words=stopwords)),\\n        ('tree', DecisionTreeClassifier(max_depth=i, min_samples_split=splits, class_weight='balanced',\\n                                        random_state=12345))\\n    ])\\n        score = cross_val_score(pipe_tree, unadjusted_features_train, \\n                                target_train, scoring='f1', cv=5).mean()\\n        \\n        if score > f1_tree:\\n            min_splits = splits\\n            best_depth = i\\n            f1_tree = score\\n            \\nprint(f'Максимальная глубина дерева на лучшей модели: {best_depth}\\n'\\n      f'Минимальное количество выборок для разделения узла: {min_splits}\\n'\\n        f'Значение F1 для модели дерева решений: {f1_tree}')\\n\""
      ]
     },
     "execution_count": 20,
     "metadata": {},
     "output_type": "execute_result"
    }
   ],
   "source": [
    "'''\n",
    "%%time\n",
    "\n",
    "best_depth = 0\n",
    "min_splits = 0\n",
    "f1_tree = 0\n",
    "tree = None\n",
    "\n",
    "for i in tqdm(range(1, 6)):\n",
    "    for splits in range(2, 6):\n",
    "        pipe_tree = Pipeline([\n",
    "        ('vectorizer', TfidfVectorizer(stop_words=stopwords)),\n",
    "        ('tree', DecisionTreeClassifier(max_depth=i, min_samples_split=splits, class_weight='balanced',\n",
    "                                        random_state=12345))\n",
    "    ])\n",
    "        score = cross_val_score(pipe_tree, unadjusted_features_train, \n",
    "                                target_train, scoring='f1', cv=5).mean()\n",
    "        \n",
    "        if score > f1_tree:\n",
    "            min_splits = splits\n",
    "            best_depth = i\n",
    "            f1_tree = score\n",
    "            \n",
    "print(f'Максимальная глубина дерева на лучшей модели: {best_depth}\\n'\n",
    "      f'Минимальное количество выборок для разделения узла: {min_splits}\\n'\n",
    "        f'Значение F1 для модели дерева решений: {f1_tree}')\n",
    "'''"
   ]
  },
  {
   "cell_type": "markdown",
   "metadata": {},
   "source": [
    "Так как модель долго считалась, прогоним ее один раз на поиск лучшего набора гиперпараметров и сохраним результат, закомментировав ячейку"
   ]
  },
  {
   "cell_type": "code",
   "execution_count": 21,
   "metadata": {},
   "outputs": [
    {
     "name": "stdout",
     "output_type": "stream",
     "text": [
      "Максимальная глубина дерева на лучшей модели: 5\n",
      "Минимальное количество выборок для разделения узла: 2\n",
      "Значение F1 для модели дерева решений: 0.4838211278190695\n",
      "Время рассчета модели: 11min 2s\n"
     ]
    }
   ],
   "source": [
    "# Результаты лучшей модели DecisionTreeClassifier\n",
    "f1_tree = 0.4838211278190695\n",
    "tree_time = '11min 2s'\n",
    "max_depth_tree = 5\n",
    "min_splits_tree = 2\n",
    "tree = DecisionTreeClassifier(max_depth=max_depth_tree, min_samples_split=min_splits_tree, \n",
    "                              random_state=12345)\n",
    "\n",
    "print(f'Максимальная глубина дерева на лучшей модели: {max_depth_tree}\\n'\n",
    "      f'Минимальное количество выборок для разделения узла: {min_splits_tree}\\n'\n",
    "        f'Значение F1 для модели дерева решений: {f1_tree}\\n'\n",
    "     f'Время рассчета модели: {tree_time}')"
   ]
  },
  {
   "cell_type": "markdown",
   "metadata": {},
   "source": [
    "### Лес деревьев решений"
   ]
  },
  {
   "cell_type": "code",
   "execution_count": 22,
   "metadata": {},
   "outputs": [
    {
     "data": {
      "text/plain": [
       "\"\\n%%time\\n\\nbest_depth_forest = 0\\nf1_forest = 0\\nforest = None\\n\\nfor i in tqdm(range(1, 6)):\\n    for trees in [50, 100, 200]:\\n        pipe_forest = Pipeline([\\n            ('vectorizer', TfidfVectorizer(stop_words=stopwords)),\\n            ('forest', RandomForestClassifier(max_depth=i, n_estimators=trees, class_weight='balanced', \\n                                       random_state=12345))\\n        ])\\n        score = cross_val_score(pipe_forest, unadjusted_features_train, target_train, \\n                                scoring='f1', cv=5).mean()\\n        \\n        if score > f1_forest:\\n            best_depth_forest = i\\n            num_of_trees = trees\\n            f1_forest = score\\n            \\nprint(f'Максимальная глубина леса на лучшей модели: {best_depth_forest}\\n'\\n        f'Количество деревьев в лесу: {num_of_trees}\\n'\\n     f'Значение F1 для модели леса решений: {f1_forest}')\\n\""
      ]
     },
     "execution_count": 22,
     "metadata": {},
     "output_type": "execute_result"
    }
   ],
   "source": [
    "'''\n",
    "%%time\n",
    "\n",
    "best_depth_forest = 0\n",
    "f1_forest = 0\n",
    "forest = None\n",
    "\n",
    "for i in tqdm(range(1, 6)):\n",
    "    for trees in [50, 100, 200]:\n",
    "        pipe_forest = Pipeline([\n",
    "            ('vectorizer', TfidfVectorizer(stop_words=stopwords)),\n",
    "            ('forest', RandomForestClassifier(max_depth=i, n_estimators=trees, class_weight='balanced', \n",
    "                                       random_state=12345))\n",
    "        ])\n",
    "        score = cross_val_score(pipe_forest, unadjusted_features_train, target_train, \n",
    "                                scoring='f1', cv=5).mean()\n",
    "        \n",
    "        if score > f1_forest:\n",
    "            best_depth_forest = i\n",
    "            num_of_trees = trees\n",
    "            f1_forest = score\n",
    "            \n",
    "print(f'Максимальная глубина леса на лучшей модели: {best_depth_forest}\\n'\n",
    "        f'Количество деревьев в лесу: {num_of_trees}\\n'\n",
    "     f'Значение F1 для модели леса решений: {f1_forest}')\n",
    "'''"
   ]
  },
  {
   "cell_type": "markdown",
   "metadata": {},
   "source": [
    "Сразу сохраним результаты расчетов и гиперпараметры лучшей модели, закомментировав ячейку"
   ]
  },
  {
   "cell_type": "code",
   "execution_count": 23,
   "metadata": {},
   "outputs": [
    {
     "name": "stdout",
     "output_type": "stream",
     "text": [
      "Максимальная глубина дерева на лучшей модели: 5\n",
      "Значение F1 для модели дерева решений: 0.3357805715833218\n",
      "Количество деревьев в лесу: 200\n",
      "Время рассчета модели: 8min 55s\n"
     ]
    }
   ],
   "source": [
    "# Результаты лучшей модели RandomForestRegressor\n",
    "f1_forest = 0.3357805715833218\n",
    "forest_time = '8min 55s'\n",
    "trees = 200\n",
    "max_depth_forest = 5\n",
    "forest = RandomForestClassifier(max_depth=max_depth_forest, n_estimators=trees, \n",
    "                                class_weight='balanced', random_state=12345)\n",
    "\n",
    "print(f'Максимальная глубина дерева на лучшей модели: {max_depth_forest}\\n'\n",
    "        f'Значение F1 для модели дерева решений: {f1_forest}\\n'\n",
    "      f'Количество деревьев в лесу: {trees}\\n'\n",
    "     f'Время рассчета модели: {forest_time}')"
   ]
  },
  {
   "cell_type": "markdown",
   "metadata": {},
   "source": [
    "## Сравнение результатов и выбор лучшей модели"
   ]
  },
  {
   "cell_type": "code",
   "execution_count": 24,
   "metadata": {},
   "outputs": [
    {
     "data": {
      "text/html": [
       "<div>\n",
       "<style scoped>\n",
       "    .dataframe tbody tr th:only-of-type {\n",
       "        vertical-align: middle;\n",
       "    }\n",
       "\n",
       "    .dataframe tbody tr th {\n",
       "        vertical-align: top;\n",
       "    }\n",
       "\n",
       "    .dataframe thead th {\n",
       "        text-align: right;\n",
       "    }\n",
       "</style>\n",
       "<table border=\"1\" class=\"dataframe\">\n",
       "  <thead>\n",
       "    <tr style=\"text-align: right;\">\n",
       "      <th></th>\n",
       "      <th>F1 на кросс-валидации</th>\n",
       "      <th>Время подбора лучшей модели</th>\n",
       "    </tr>\n",
       "    <tr>\n",
       "      <th>Модель</th>\n",
       "      <th></th>\n",
       "      <th></th>\n",
       "    </tr>\n",
       "  </thead>\n",
       "  <tbody>\n",
       "    <tr>\n",
       "      <th>Логистическая регрессия</th>\n",
       "      <td>0.754864</td>\n",
       "      <td>4min 43s</td>\n",
       "    </tr>\n",
       "    <tr>\n",
       "      <th>Дерево решений</th>\n",
       "      <td>0.483821</td>\n",
       "      <td>11min 2s</td>\n",
       "    </tr>\n",
       "    <tr>\n",
       "      <th>Лес деревьев решений</th>\n",
       "      <td>0.335781</td>\n",
       "      <td>8min 55s</td>\n",
       "    </tr>\n",
       "  </tbody>\n",
       "</table>\n",
       "</div>"
      ],
      "text/plain": [
       "                         F1 на кросс-валидации Время подбора лучшей модели\n",
       "Модель                                                                    \n",
       "Логистическая регрессия               0.754864                    4min 43s\n",
       "Дерево решений                        0.483821                    11min 2s\n",
       "Лес деревьев решений                  0.335781                    8min 55s"
      ]
     },
     "execution_count": 24,
     "metadata": {},
     "output_type": "execute_result"
    }
   ],
   "source": [
    "f1_table = pd.DataFrame(\n",
    "    {\n",
    "        'Модель': ['Логистическая регрессия', 'Дерево решений', 'Лес деревьев решений'],\n",
    "        'F1 на кросс-валидации': [f1_regression, f1_tree, f1_forest],\n",
    "        'Время подбора лучшей модели': [regression_time, tree_time, forest_time]\n",
    "    }\n",
    ")\n",
    "f1_table = f1_table.set_index('Модель')\n",
    "f1_table"
   ]
  },
  {
   "cell_type": "markdown",
   "metadata": {},
   "source": [
    "Логистическая регрессия выигрывает по скорости подбора гиперпараметров и по мерке F1. Проверим данную модель на тестовой выборке"
   ]
  },
  {
   "cell_type": "markdown",
   "metadata": {},
   "source": [
    "## Тестирование модели"
   ]
  },
  {
   "cell_type": "code",
   "execution_count": 25,
   "metadata": {},
   "outputs": [
    {
     "name": "stdout",
     "output_type": "stream",
     "text": [
      "Значение F1 на тестовой выборке: 0.7588218949708252\n"
     ]
    }
   ],
   "source": [
    "# Создадим счетчик, обучим его на тренировочной выборке и преобразуем признаки тестовой выборки\n",
    "count_tf_idf = TfidfVectorizer(stop_words=stopwords)\n",
    "features_train = count_tf_idf.fit_transform(unadjusted_features_train)\n",
    "features_test = count_tf_idf.transform(unadjusted_features_test)\n",
    "\n",
    "# Оценим качество модели на тестовой выборке\n",
    "regression.fit(features_train, target_train)\n",
    "predictions = regression.predict(features_test)\n",
    "f1_test = f1_score(target_test, predictions)\n",
    "\n",
    "print(f'Значение F1 на тестовой выборке: {f1_test}')"
   ]
  },
  {
   "cell_type": "markdown",
   "metadata": {},
   "source": [
    "Показатель F1 на тестовой выборке прошел пороговое значение (не меньше 0.75). Следовательно, цель проекта была выполнена, и проект может быть презентован заказчику"
   ]
  },
  {
   "cell_type": "markdown",
   "metadata": {},
   "source": [
    "## Выводы"
   ]
  },
  {
   "cell_type": "markdown",
   "metadata": {},
   "source": [
    "Подводя итоги, целью данного проекта было разработать модель, классифицирующую предложения по токсичности/не токсичности со значением F1 не менее 0.75.  \n",
    "  \n",
    "Сначала мы открыли файл и изучили представленные данные. Пропусков в данных не было обнаружено, и был замечен большой дисбаланс данных, что мы в дальнейшем учли при построении моделей. В процессе предобработки данных мы также создали корпус фраз, изменив тип данных, лемматизировали текст и очистили от ненужных слов (не несущих смысловой нагрузки).  \n",
    "  \n",
    "Далее мы подготовили данные к построению моделей:\n",
    "- разделили датасет на обучающую и тестовую выборки\n",
    "- создали признаки на основе TF-IDF  \n",
    "  \n",
    "Так как перед нами стояла задача классификации, мы рассмотрели следующие модели:\n",
    "- логистическая регрессия\n",
    "- дерево решений\n",
    "- лес деревьев решений  \n",
    "  \n",
    "Модель логистической регрессии показала наилучший результат мерки F1 на методе кросс-валидации, пройдя бенчмарк в 0.75 с примерным значением 0.754864, и показала наиболее быстрое время подбора гиперпараметра - 4 минуты и 43 секунды. На тестовой выборке модель также прошла пороговое значение F1 с результатом около  0.758822. Следовательно, цель проекта была выполнена, и модель может быть представлена заказчику."
   ]
  }
 ],
 "metadata": {
  "kernelspec": {
   "display_name": "Python 3 (ipykernel)",
   "language": "python",
   "name": "python3"
  },
  "language_info": {
   "codemirror_mode": {
    "name": "ipython",
    "version": 3
   },
   "file_extension": ".py",
   "mimetype": "text/x-python",
   "name": "python",
   "nbconvert_exporter": "python",
   "pygments_lexer": "ipython3",
   "version": "3.9.15"
  },
  "toc": {
   "base_numbering": 1,
   "nav_menu": {},
   "number_sections": true,
   "sideBar": true,
   "skip_h1_title": true,
   "title_cell": "Содержание",
   "title_sidebar": "Contents",
   "toc_cell": true,
   "toc_position": {
    "height": "calc(100% - 180px)",
    "left": "10px",
    "top": "150px",
    "width": "302.391px"
   },
   "toc_section_display": true,
   "toc_window_display": false
  }
 },
 "nbformat": 4,
 "nbformat_minor": 2
}
